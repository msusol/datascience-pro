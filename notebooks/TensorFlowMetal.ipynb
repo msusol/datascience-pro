{
 "cells": [
  {
   "cell_type": "markdown",
   "id": "c4e87bd0-71b5-4e31-ab72-713335bb545c",
   "metadata": {},
   "source": [
    "# TensorFlow Metal v1.1.0"
   ]
  },
  {
   "cell_type": "markdown",
   "id": "138b039e-5177-468b-9932-3eff182ba330",
   "metadata": {},
   "source": [
    "## Tensorflow v2.15.0"
   ]
  },
  {
   "cell_type": "markdown",
   "id": "a9e9a4d6-3146-4540-be0e-ce5ff1bad44a",
   "metadata": {},
   "source": [
    "start from fresh venv\n",
    "\n",
    "```shell\n",
    "~ % python3 -m venv .venv-metal\n",
    "~ % source .venv-metal/bin/activate\n",
    "(.venv-metal) ~ % pip install --upgrade pip\n",
    "(.venv-metal) ~ % pip list\n",
    "\n",
    "Package    Version\n",
    "---------- -------\n",
    "pip        23.3.2\n",
    "setuptools 65.5.\n",
    "\n",
    "(.venv-metal) ~ % pip3 install tensorflow==2.15.0\n",
    "(.venv-metal) ~ % pip3 install tensorflow-metal\n",
    "(.venv-metal) ~ % pip3 list | grep tensorflow\n",
    "\n",
    "tensorflow                   2.15.0\n",
    "tensorflow-estimator         2.15.0\n",
    "tensorflow-io-gcs-filesystem 0.34.0\n",
    "tensorflow-macos             2.15.0\n",
    "tensorflow-metal             1.1.0\n",
    "\n",
    "(.venv-metal) ~ % jupyter_notebook.sh\n",
    "```"
   ]
  },
  {
   "cell_type": "code",
   "execution_count": 1,
   "id": "5bac4c0c-1020-4ea1-891f-21d77094a7c4",
   "metadata": {},
   "outputs": [
    {
     "name": "stdout",
     "output_type": "stream",
     "text": [
      "/Users/marksusol/.venv-metal/bin/pip\n",
      "\n",
      "tensorflow                   2.15.0\n",
      "tensorflow-estimator         2.15.0\n",
      "tensorflow-io-gcs-filesystem 0.34.0\n",
      "tensorflow-macos             2.15.0\n",
      "tensorflow-metal             1.1.0\n"
     ]
    }
   ],
   "source": [
    "!which pip\n",
    "!echo\n",
    "!pip list | grep tensorflow"
   ]
  },
  {
   "cell_type": "code",
   "execution_count": 6,
   "id": "9802f140-be4d-4b72-8270-e1466f1221ef",
   "metadata": {},
   "outputs": [],
   "source": [
    "import os\n",
    "\n",
    "os.environ['TF_CPP_MIN_LOG_LEVEL']='3'"
   ]
  },
  {
   "cell_type": "markdown",
   "id": "1b382306-dfda-414a-a385-b955b7a7271c",
   "metadata": {},
   "source": [
    "**Note:** If you will set the environment variable to 3, All the messages (1 - informational(I), 2 - warnings(W) and 3- errors(E)) will not be logged during code execution."
   ]
  },
  {
   "cell_type": "code",
   "execution_count": 7,
   "id": "28174a3a-fea8-445b-ad44-7bc90718e699",
   "metadata": {},
   "outputs": [
    {
     "data": {
      "text/plain": [
       "[PhysicalDevice(name='/physical_device:CPU:0', device_type='CPU'),\n",
       " PhysicalDevice(name='/physical_device:GPU:0', device_type='GPU')]"
      ]
     },
     "execution_count": 7,
     "metadata": {},
     "output_type": "execute_result"
    }
   ],
   "source": [
    "import tensorflow as tf\n",
    "tf.config.get_visible_devices()"
   ]
  },
  {
   "cell_type": "code",
   "execution_count": 8,
   "id": "730baab1-76e3-4869-9882-b02396a686aa",
   "metadata": {},
   "outputs": [],
   "source": [
    "import time\n",
    "from datetime import timedelta\n",
    "\n",
    "# only works before device initialized\n",
    "def disable_device(device='GPU'):    \n",
    "    physical_devices = tf.config.list_physical_devices(device)\n",
    "    try:\n",
    "      tf.config.set_visible_devices([], device)\n",
    "      visible_devices = tf.config.get_visible_devices()\n",
    "      for device in visible_devices:\n",
    "        assert device.device_type != device\n",
    "    except:\n",
    "      print('Invalid device or cannot modify virtual devices once initialized.')\n",
    "      pass\n",
    "\n",
    "def calculate_time(device_time):\n",
    "    elapsed = abs(device_time[0] - device_time[1])\n",
    "    return str(timedelta(seconds=elapsed))\n",
    "\n",
    "def train_model(device):\n",
    "    print('Tensorflow: %s'%(device))\n",
    "    print('-- Start: %s '%(time.time()))\n",
    "    \n",
    "    cifar = tf.keras.datasets.cifar100\n",
    "    (x_train, y_train), (x_test, y_test) = cifar.load_data()\n",
    "    model = tf.keras.applications.ResNet50(\n",
    "        include_top=True,\n",
    "        weights=None,\n",
    "        input_shape=(32, 32, 3),\n",
    "        classes=100,)\n",
    "    \n",
    "    # if softmax layer is not being added at the last layer then we need to\n",
    "    # have the from_logits=True to indicate the probabilities are not normalized \n",
    "    loss_fn = tf.keras.losses.SparseCategoricalCrossentropy(from_logits=True)\n",
    "    model.compile(optimizer=\"adam\", loss=loss_fn, metrics=[\"accuracy\"])\n",
    "    \n",
    "    with tf.device('/device:%s:0'%(device)):\n",
    "        model.fit(x_train, y_train, epochs=5, batch_size=64)\n",
    "\n",
    "    del model\n",
    "    print('-- End: %s '%(time.time()))"
   ]
  },
  {
   "cell_type": "code",
   "execution_count": 9,
   "id": "65f385d4-97c5-417f-af37-fa0623b78bb5",
   "metadata": {},
   "outputs": [
    {
     "name": "stdout",
     "output_type": "stream",
     "text": [
      "Visible Devices:  [PhysicalDevice(name='/physical_device:CPU:0', device_type='CPU'), PhysicalDevice(name='/physical_device:GPU:0', device_type='GPU')]\n",
      "Tensorflow: CPU\n",
      "-- Start: 1705006395.26103 \n",
      "Epoch 1/5\n",
      "782/782 [==============================] - 397s 505ms/step - loss: 4.5335 - accuracy: 0.0868\n",
      "Epoch 2/5\n",
      "782/782 [==============================] - 398s 509ms/step - loss: 3.8759 - accuracy: 0.1624\n",
      "Epoch 3/5\n",
      "782/782 [==============================] - 402s 514ms/step - loss: 3.5801 - accuracy: 0.2104\n",
      "Epoch 4/5\n",
      "782/782 [==============================] - 396s 506ms/step - loss: 3.6106 - accuracy: 0.2046\n",
      "Epoch 5/5\n",
      "782/782 [==============================] - 395s 505ms/step - loss: 3.3425 - accuracy: 0.2274\n",
      "-- End: 1705008383.157367 \n",
      "CPU times: user 1h 25min 35s, sys: 19min 10s, total: 1h 44min 46s\n",
      "Wall time: 33min 7s\n"
     ]
    }
   ],
   "source": [
    "%%time\n",
    "\n",
    "print('Visible Devices: ', tf.config.get_visible_devices())\n",
    "train_model('CPU')"
   ]
  },
  {
   "cell_type": "code",
   "execution_count": 6,
   "id": "acb110ad-e7cd-4695-a00d-db8475fc0523",
   "metadata": {},
   "outputs": [
    {
     "name": "stdout",
     "output_type": "stream",
     "text": [
      "Visible Devices:  [PhysicalDevice(name='/physical_device:CPU:0', device_type='CPU'), PhysicalDevice(name='/physical_device:GPU:0', device_type='GPU')]\n",
      "Tensorflow: GPU\n",
      "-- Start: 1705000398.3098922 \n",
      "Epoch 1/5\n",
      "782/782 [==============================] - 46s 56ms/step - loss: 4.8281 - accuracy: 0.0703\n",
      "Epoch 2/5\n",
      "782/782 [==============================] - 44s 56ms/step - loss: 4.1110 - accuracy: 0.1082\n",
      "Epoch 3/5\n",
      "782/782 [==============================] - 43s 55ms/step - loss: 3.6865 - accuracy: 0.1665\n",
      "Epoch 4/5\n",
      "782/782 [==============================] - 43s 55ms/step - loss: 3.7007 - accuracy: 0.1773\n",
      "Epoch 5/5\n",
      "782/782 [==============================] - 43s 55ms/step - loss: 3.3461 - accuracy: 0.2196\n",
      "--End: 1705000619.002486 \n",
      "CPU times: user 3min 33s, sys: 43.2 s, total: 4min 16s\n",
      "Wall time: 3min 40s\n"
     ]
    }
   ],
   "source": [
    "%%time\n",
    "\n",
    "print('Visible Devices: ', tf.config.get_visible_devices())\n",
    "train_model('GPU')"
   ]
  },
  {
   "cell_type": "code",
   "execution_count": null,
   "id": "296fabd8-0d23-4ba0-aa9a-dddc19fc4c87",
   "metadata": {},
   "outputs": [],
   "source": [
    "<!-- Ensure the colab doesn't run past this point. --> "
   ]
  },
  {
   "cell_type": "markdown",
   "id": "c6f32292-aa65-42e0-8c94-9bbc8db5cec5",
   "metadata": {},
   "source": [
    "### CPU Only"
   ]
  },
  {
   "cell_type": "markdown",
   "id": "08c4fd91-644d-468c-8b86-f125918add7d",
   "metadata": {},
   "source": [
    "This test can be run by itself after restarting the runtime to ensure we don't run into the `cannot modify virtual devices once initialized.` message. We're not able to 'renable' the GPU device once disabled."
   ]
  },
  {
   "cell_type": "code",
   "execution_count": 7,
   "id": "1d8ed0c9-d623-4e15-bd8d-a752428a9514",
   "metadata": {},
   "outputs": [
    {
     "name": "stdout",
     "output_type": "stream",
     "text": [
      "Visible Devices:  [PhysicalDevice(name='/physical_device:CPU:0', device_type='CPU')]\n",
      "Tensorflow: CPU\n",
      "--Start: 1704996048.3641548 \n",
      "Epoch 1/5\n",
      "782/782 [==============================] - 354s 451ms/step - loss: 4.9483 - accuracy: 0.0655\n",
      "Epoch 2/5\n",
      "782/782 [==============================] - 353s 452ms/step - loss: 4.5328 - accuracy: 0.0771\n",
      "Epoch 3/5\n",
      "782/782 [==============================] - 350s 447ms/step - loss: 4.0170 - accuracy: 0.1108\n",
      "Epoch 4/5\n",
      "782/782 [==============================] - 356s 455ms/step - loss: 3.6376 - accuracy: 0.1660\n",
      "Epoch 5/5\n",
      "782/782 [==============================] - 351s 449ms/step - loss: 3.5074 - accuracy: 0.1963\n",
      "--End: 1704997812.719677 \n",
      "CPU times: user 1h 25min 17s, sys: 12min 50s, total: 1h 38min 7s\n",
      "Wall time: 29min 24s\n"
     ]
    }
   ],
   "source": [
    "%%time\n",
    "\n",
    "disable_device('GPU')\n",
    "print('Visible Devices: ', tf.config.get_visible_devices())\n",
    "train_model('CPU')"
   ]
  }
 ],
 "metadata": {
  "kernelspec": {
   "display_name": "Python 3.11",
   "language": "python",
   "name": "python311"
  },
  "language_info": {
   "codemirror_mode": {
    "name": "ipython",
    "version": 3
   },
   "file_extension": ".py",
   "mimetype": "text/x-python",
   "name": "python",
   "nbconvert_exporter": "python",
   "pygments_lexer": "ipython3",
   "version": "3.11.7"
  }
 },
 "nbformat": 4,
 "nbformat_minor": 5
}

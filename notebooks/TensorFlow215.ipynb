{
 "cells": [
  {
   "cell_type": "markdown",
   "id": "c4e87bd0-71b5-4e31-ab72-713335bb545c",
   "metadata": {},
   "source": [
    "# TensorFlow v2.15.0 - Apple Silicon\n",
    "\n",
    "**Apple Silicon users:** Install TensorFlow using `pip install tensorflow-macos`.\n",
    "\n",
    "References:\n",
    "1. [Tensorflow 2.15 Release Notes](https://github.com/tensorflow/tensorflow/releases)\n",
    "2. [Get started with tensorflow-metal](https://developer.apple.com/metal/tensorflow-plugin/)\n",
    "\n",
    "Baseline CPU vs GPU:\n",
    "1. Kaggle: [Tensorflow 2.15 CPU/GPU Comparison](https://www.kaggle.com/code/gdataranger/tensorflow-2-16-cpu-gpu-comparison)\n",
    "2. Colab: [Tensorflow 2.15 CPU/GPU Comparison](https://colab.research.google.com/drive/1FyQ1VqYjsGCGtUcNwM0FkGRPFnTIQrR1)"
   ]
  },
  {
   "cell_type": "markdown",
   "id": "138b039e-5177-468b-9932-3eff182ba330",
   "metadata": {},
   "source": [
    "## Setup"
   ]
  },
  {
   "cell_type": "markdown",
   "id": "a9e9a4d6-3146-4540-be0e-ce5ff1bad44a",
   "metadata": {},
   "source": [
    "Start from a fresh virtual environment (venv) in order to ensure we have the correct requirements\n",
    "installed for `v2.15.0`, as the differences from `v2.15.0` to `v2.15.1` have vastly different requirements.\n",
    "<br>\n",
    "\n",
    "```zsh\n",
    "~ % cd ~/.virtualenvs\n",
    ".virtualenvs % python3 -m venv venv-tf15\n",
    ".virtualenvs % source venv-tf15/bin/activate\n",
    "(venv-tf15) .virtualenvs % pip install --upgrade pip\n",
    "(venv-tf15) .virtualenvs % pip list\n",
    "\n",
    "Package    Version\n",
    "---------- -------\n",
    "pip        24.0\n",
    "setuptools 65.5.0\n",
    "\n",
    "(venv-tf15) ~ % pip install tensorflow-macos==2.15.0\n",
    "(venv-tf15) ~ % pip install tensorflow-metal==1.1.0\n",
    "(venv-tf15) ~ % pip install tensorflow==2.15.0\n",
    "(venv-tf15) ~ % pip freeze > requirements_tf215.txt\n",
    "(venv-tf15) ~ % pip list | grep -E 'keras|tensorflow'\n",
    "keras                        2.15.0\n",
    "tensorflow                   2.15.0\n",
    "tensorflow-estimator         2.15.0\n",
    "tensorflow-io-gcs-filesystem 0.36.0\n",
    "tensorflow-macos             2.15.0\n",
    "tensorflow-metal             1.1.0\n",
    "\n",
    "(venv-tf15) ~ % jupyter notebook --port=8890\n",
    "```"
   ]
  },
  {
   "cell_type": "markdown",
   "source": [
    "Now let's ensure we have this virtual environment available as a Jupyter kernel.\n",
    "\n",
    "```zsh\n",
    "(venv-tf15) .virtualenvs % pip install ipykernel\n",
    "(venv-tf15) .virtualenvs % python3 -m ipykernel install --user --name=venv-tf15 --display-name=\"Python (TensorFlow 2.15)\"\n",
    "Installed kernelspec venv-tf15 in /Users/marksusol/Library/Jupyter/kernels/venv-tf15\n",
    "\n",
    "(venv-tf15) .virtualenvs % jupyter kernelspec list\n",
    "Available kernels:\n",
    "ir           /Users/marksusol/Library/Jupyter/kernels/ir\n",
    "venv-tf15    /Users/marksusol/Library/Jupyter/kernels/venv-tf15\n",
    "python3      /Library/Frameworks/Python.framework/Versions/3.11/share/jupyter/kernels/python3\n",
    "```"
   ],
   "metadata": {
    "collapsed": false
   },
   "id": "e61ab77c7f026efd"
  },
  {
   "cell_type": "markdown",
   "source": [
    "## JetBrain DataSpell"
   ],
   "metadata": {
    "collapsed": false
   },
   "id": "b1d918621b346976"
  },
  {
   "cell_type": "markdown",
   "source": [
    "Ensure that **DataSpell** is correctly configured to use the `venv-tf15` virtual environment and properly loads the python/tensorflow versions.\n",
    "\n",
    "![tensorflow-dataspell-tf15](../images/tensorflow-dataspell-tf15.png)"
   ],
   "metadata": {
    "collapsed": false
   },
   "id": "28a542ef5d127972"
  },
  {
   "cell_type": "markdown",
   "source": [
    "## Tensorflow"
   ],
   "metadata": {
    "collapsed": false
   },
   "id": "a03313d478fedc9c"
  },
  {
   "cell_type": "code",
   "execution_count": 1,
   "id": "5bac4c0c-1020-4ea1-891f-21d77094a7c4",
   "metadata": {
    "ExecuteTime": {
     "end_time": "2024-03-17T23:05:08.056442Z",
     "start_time": "2024-03-17T23:05:06.120526Z"
    }
   },
   "outputs": [
    {
     "name": "stdout",
     "output_type": "stream",
     "text": [
      "System: /Users/marksusol/.virtualenvs/venv-tf15/bin/python3\n",
      "TensorFlow: 2.15.0\n"
     ]
    }
   ],
   "source": [
    "import sys\n",
    "import tensorflow as tf\n",
    "\n",
    "# Ensure the notebook runs on the correct environment in DataSpell.\n",
    "assert sys.executable == '/Users/marksusol/.virtualenvs/venv-tf15/bin/python3'\n",
    "assert tf.__version__ == '2.15.0'\n",
    "\n",
    "print(f'System: {sys.executable}')\n",
    "print(f'TensorFlow: {tf.__version__}')"
   ]
  },
  {
   "cell_type": "markdown",
   "id": "b2ea5fdf-a3af-4157-b6bc-1e5b76771ba7",
   "metadata": {},
   "source": [
    "### GPU Test"
   ]
  },
  {
   "cell_type": "code",
   "execution_count": 4,
   "id": "16f40f9b-ec54-422f-a8d7-1ffda44513f7",
   "metadata": {
    "ExecuteTime": {
     "end_time": "2024-03-17T22:36:55.908365Z",
     "start_time": "2024-03-17T22:36:12.764570Z"
    }
   },
   "outputs": [
    {
     "name": "stdout",
     "output_type": "stream",
     "text": [
      "Visible Devices:  [PhysicalDevice(name='/physical_device:CPU:0', device_type='CPU'), PhysicalDevice(name='/physical_device:GPU:0', device_type='GPU')]\n",
      "391/391 [==============================] - 42s 96ms/step - loss: 4.5789 - accuracy: 0.0778\n",
      "CPU times: user 28.8 s, sys: 8.66 s, total: 37.5 s\n",
      "Wall time: 43.1 s\n"
     ]
    },
    {
     "data": {
      "text/plain": "<keras.src.callbacks.History at 0x3299ad350>"
     },
     "execution_count": 4,
     "metadata": {},
     "output_type": "execute_result"
    }
   ],
   "source": [
    "%%time\n",
    "\n",
    "import tensorflow as tf\n",
    "\n",
    "import os\n",
    "# When = 3, the messages (1 - informational(I), 2 - warnings(W) and 3- errors(E)) will not be logged during code execution.\n",
    "os.environ['TF_CPP_MIN_LOG_LEVEL'] = '3'\n",
    "\n",
    "# Ensure we see the GPU in device list.\n",
    "print('Visible Devices: ', tf.config.get_visible_devices())\n",
    "\n",
    "cifar = tf.keras.datasets.cifar100\n",
    "(x_train, y_train), (x_test, y_test) = cifar.load_data()\n",
    "model = tf.keras.applications.ResNet50(\n",
    "    include_top=True,\n",
    "    weights=None,\n",
    "    input_shape=(32, 32, 3),\n",
    "    classes=100,)\n",
    "\n",
    "loss_fn = tf.keras.losses.SparseCategoricalCrossentropy(from_logits=False)\n",
    "model.compile(optimizer=\"adam\", loss=loss_fn, metrics=[\"accuracy\"])\n",
    "model.fit(x_train, y_train, epochs=1, batch_size=128)"
   ]
  },
  {
   "cell_type": "markdown",
   "id": "0b4d61cd-5572-42fb-9306-65df87745d92",
   "metadata": {},
   "source": [
    "### CPU Testing\n",
    "\n",
    "This test can be run by itself after restarting the runtime to ensure we don't run into the `cannot modify virtual devices once initialized.` message. We're not able to 'renable' the GPU device once disabled.\n",
    "\n",
    "**Note:** You may have your jupyter notebook running on a different port, for this notebook we are running the notebook on `--port=8890` by default in **DataSpell**."
   ]
  },
  {
   "cell_type": "code",
   "outputs": [],
   "source": [
    "%%capture\n",
    "!jupyter notebook stop 8890"
   ],
   "metadata": {
    "collapsed": false,
    "ExecuteTime": {
     "end_time": "2024-03-17T23:02:31.930625Z",
     "start_time": "2024-03-17T23:02:30.987323Z"
    }
   },
   "id": "22e9e5b0ca421390",
   "execution_count": 5
  },
  {
   "cell_type": "code",
   "execution_count": 2,
   "id": "65f385d4-97c5-417f-af37-fa0623b78bb5",
   "metadata": {
    "ExecuteTime": {
     "end_time": "2024-03-17T22:32:01.315063Z",
     "start_time": "2024-03-17T22:25:26.844286Z"
    }
   },
   "outputs": [
    {
     "name": "stdout",
     "output_type": "stream",
     "text": [
      "Visible Devices:  [PhysicalDevice(name='/physical_device:CPU:0', device_type='CPU')]\n",
      "391/391 [==============================] - 393s 1s/step - loss: 4.6609 - accuracy: 0.0720\n",
      "CPU times: user 17min 44s, sys: 2min 35s, total: 20min 19s\n",
      "Wall time: 6min 34s\n"
     ]
    },
    {
     "data": {
      "text/plain": "<keras.src.callbacks.History at 0x289a0f990>"
     },
     "execution_count": 2,
     "metadata": {},
     "output_type": "execute_result"
    }
   ],
   "source": [
    "%%time\n",
    "\n",
    "import tensorflow as tf\n",
    "# Removes GPU from list, i.e. []\n",
    "tf.config.set_visible_devices([], 'GPU')\n",
    "print('Visible Devices: ', tf.config.get_visible_devices())\n",
    "\n",
    "cifar = tf.keras.datasets.cifar100\n",
    "(x_train, y_train), (x_test, y_test) = cifar.load_data()\n",
    "model = tf.keras.applications.ResNet50(\n",
    "    include_top=True,\n",
    "    weights=None,\n",
    "    input_shape=(32, 32, 3),\n",
    "    classes=100,)\n",
    "\n",
    "loss_fn = tf.keras.losses.SparseCategoricalCrossentropy(from_logits=False)\n",
    "model.compile(optimizer=\"adam\", loss=loss_fn, metrics=[\"accuracy\"])\n",
    "model.fit(x_train, y_train, epochs=1, batch_size=128)"
   ]
  }
 ],
 "metadata": {
  "kernelspec": {
   "name": "venv-tf15",
   "language": "python",
   "display_name": "Python (TensorFlow 2.15)"
  },
  "language_info": {
   "codemirror_mode": {
    "name": "ipython",
    "version": 3
   },
   "file_extension": ".py",
   "mimetype": "text/x-python",
   "name": "python",
   "nbconvert_exporter": "python",
   "pygments_lexer": "ipython3",
   "version": "3.11.7"
  }
 },
 "nbformat": 4,
 "nbformat_minor": 5
}

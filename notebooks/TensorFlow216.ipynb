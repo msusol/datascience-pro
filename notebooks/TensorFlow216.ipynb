{
 "cells": [
  {
   "cell_type": "markdown",
   "id": "c4e87bd0-71b5-4e31-ab72-713335bb545c",
   "metadata": {},
   "source": [
    "# TensorFlow v2.16.1 - Apple Silicon\n",
    "\n",
    "**Apple Silicon users:** If you previously installed TensorFlow using `pip install tensorflow-macos`, please update your installation method. Use `pip install tensorflow` from now on.\n",
    "\n",
    "> **Note:** `pip install tensorflow-metal` is still required to get access to GPU.\n",
    "> <br>\n",
    "> ```python\n",
    "> import tensorflow as tf\n",
    "> \n",
    "> for device in ['CPU', 'GPU']:\n",
    ">     print(tf.config.list_physical_devices(device))\n",
    "> \n",
    "> [PhysicalDevice(name='/physical_device:CPU:0', device_type='CPU')]\n",
    "> [PhysicalDevice(name='/physical_device:GPU:0', device_type='GPU')]  # pip install tensorflow-metal\n",
    "> ```\n",
    "\n",
    "References:\n",
    "1. [Tensorflow 2.16 Release Notes](https://github.com/tensorflow/tensorflow/releases)\n",
    "2. [Get started with tensorflow-metal](https://developer.apple.com/metal/tensorflow-plugin/)\n",
    "\n",
    "Baseline CPU vs GPU:\n",
    "1. Kaggle: [Tensorflow 2.15 CPU/GPU Comparison](https://www.kaggle.com/code/gdataranger/tensorflow-2-16-cpu-gpu-comparison)\n",
    "2. Colab: [Tensorflow 2.15 CPU/GPU Comparison](https://colab.research.google.com/drive/1FyQ1VqYjsGCGtUcNwM0FkGRPFnTIQrR1)"
   ]
  },
  {
   "cell_type": "markdown",
   "id": "138b039e-5177-468b-9932-3eff182ba330",
   "metadata": {},
   "source": [
    "## Setup"
   ]
  },
  {
   "cell_type": "markdown",
   "source": [
    "> TODO: [TF 2.16.1 and Apple Silicon GPU support not working](https://github.com/tensorflow/tensorflow/issues/63854)\n",
    "> We need to install **`tf_keras~=2.16`** and then set **`os.environ['TF_USE_LEGACY_KERAS'] = '1'`** in our kernel to have access to the GPU."
   ],
   "metadata": {
    "collapsed": false
   },
   "id": "7584e24c5617ec18"
  },
  {
   "cell_type": "markdown",
   "id": "a9e9a4d6-3146-4540-be0e-ce5ff1bad44a",
   "metadata": {},
   "source": [
    "Start from a fresh virtual environment (venv) in order to ensure we have the correct requirements\n",
    "installed for `v2.16.1`, as the differences from `v2.15.0` to `v2.15.1` to `v2.16.1`\n",
    "have vastly different requirements.\n",
    "<br>\n",
    "\n",
    "```zsh\n",
    "~ % cd ~/.virtualenvs\n",
    ".virtualenvs % python3 -m venv venv-tf16\n",
    ".virtualenvs % source venv-tf16/bin/activate\n",
    "(venv-tf16) .virtualenvs % pip install --upgrade pip\n",
    "(venv-tf16) .virtualenvs % pip list\n",
    "\n",
    "Package    Version\n",
    "---------- -------\n",
    "pip        24.0\n",
    "setuptools 65.5.0\n",
    "\n",
    "(venv-tf16) .virtualenvs % pip install tensorflow~=2.16 tf_keras~=2.16\n",
    "(venv-tf16) .virtualenvs % pip install tensorflow-metal\n",
    "(venv-tf16) .virtualenvs % pip freeze > requirements_tf216.txt\n",
    "(venv-tf16) .virtualenvs % pip list | grep -E 'keras|tensorflow'\n",
    "keras                        3.0.5\n",
    "tensorflow                   2.16.1\n",
    "tensorflow-io-gcs-filesystem 0.36.0\n",
    "tensorflow-metal             1.1.0\n",
    "tf_keras                     2.16.0\n",
    "\n",
    "(venv-tf16) ~ % jupyter notebook --port=8890\n",
    "```"
   ]
  },
  {
   "cell_type": "markdown",
   "source": [
    "Now let's ensure we have this virtual environment available as a Jupyter kernel.\n",
    "\n",
    "```zsh\n",
    "(venv-tf16) .virtualenvs % pip install ipykernel\n",
    "(venv-tf16) .virtualenvs % python3 -m ipykernel install --user --name=venv-tf16 --display-name=\"Python (TensorFlow 2.16)\"\n",
    "Installed kernelspec venv-tf16 in /Users/marksusol/Library/Jupyter/kernels/venv-tf16\n",
    "\n",
    "(venv-tf16) .virtualenvs % jupyter kernelspec list\n",
    "Available kernels:\n",
    "ir           /Users/marksusol/Library/Jupyter/kernels/ir\n",
    "venv-tf15    /Users/marksusol/Library/Jupyter/kernels/venv-tf15\n",
    "venv-tf16    /Users/marksusol/Library/Jupyter/kernels/venv-tf16\n",
    "python3      /Library/Frameworks/Python.framework/Versions/3.11/share/jupyter/kernels/python3\n",
    "```"
   ],
   "metadata": {
    "collapsed": false
   },
   "id": "bb94eb56d365f997"
  },
  {
   "cell_type": "markdown",
   "source": [
    "## JetBrain DataSpell"
   ],
   "metadata": {
    "collapsed": false
   },
   "id": "ca9fefd785abe26b"
  },
  {
   "cell_type": "markdown",
   "source": [
    "Ensure that **DataSpell** is correctly configured to use the `venv-tf16` virtual environment and properly loads the python/tensorflow versions.\n",
    "\n",
    "![tensorflow-dataspell-tf15](../images/tensorflow-dataspell-tf16.png)"
   ],
   "metadata": {
    "collapsed": false
   },
   "id": "b18dca9acd6e6fad"
  },
  {
   "cell_type": "markdown",
   "source": [
    "## Tensorflow"
   ],
   "metadata": {
    "collapsed": false
   },
   "id": "5c5bdb4561258176"
  },
  {
   "cell_type": "code",
   "outputs": [
    {
     "name": "stdout",
     "output_type": "stream",
     "text": [
      "System: /Users/marksusol/.virtualenvs/venv-tf16/bin/python3\n",
      "TensorFlow: 2.16.1\n"
     ]
    }
   ],
   "source": [
    "import sys\n",
    "import tensorflow as tf\n",
    "\n",
    "# Ensure the notebook runs on the correct environment in DataSpell.\n",
    "assert sys.executable == '/Users/marksusol/.virtualenvs/venv-tf16/bin/python3'\n",
    "assert tf.__version__ == '2.16.1'\n",
    "\n",
    "print(f'System: {sys.executable}')\n",
    "print(f'TensorFlow: {tf.__version__}')"
   ],
   "metadata": {
    "collapsed": false,
    "ExecuteTime": {
     "end_time": "2024-03-29T19:06:09.746432Z",
     "start_time": "2024-03-29T19:06:07.213984Z"
    }
   },
   "id": "6fc09570fa879de0",
   "execution_count": 1
  },
  {
   "cell_type": "markdown",
   "source": [
    "### GPU Test"
   ],
   "metadata": {
    "collapsed": false
   },
   "id": "e355aa33df24a68f"
  },
  {
   "cell_type": "code",
   "outputs": [
    {
     "name": "stdout",
     "output_type": "stream",
     "text": [
      "Visible Devices:  [PhysicalDevice(name='/physical_device:CPU:0', device_type='CPU'), PhysicalDevice(name='/physical_device:GPU:0', device_type='GPU')]\n",
      "391/391 [==============================] - 58s 94ms/step - loss: 4.2792 - accuracy: 0.1048\n",
      "CPU times: user 28.5 s, sys: 6.92 s, total: 35.4 s\n",
      "Wall time: 59.8 s\n"
     ]
    },
    {
     "data": {
      "text/plain": "<tf_keras.src.callbacks.History at 0x328d1c6d0>"
     },
     "execution_count": 2,
     "metadata": {},
     "output_type": "execute_result"
    }
   ],
   "source": [
    "%%time\n",
    "import os\n",
    "# When = 3, the messages (1 - informational(I), 2 - warnings(W) and 3- errors(E)) will not be logged during code execution.\n",
    "os.environ['TF_CPP_MIN_LOG_LEVEL'] = '3'\n",
    "os.environ['TF_USE_LEGACY_KERAS'] = '1'\n",
    "\n",
    "import tensorflow as tf\n",
    "# Ensure we see the GPU in device list.\n",
    "print('Visible Devices: ', tf.config.get_visible_devices())\n",
    "\n",
    "cifar = tf.keras.datasets.cifar100\n",
    "(x_train, y_train), (x_test, y_test) = cifar.load_data()\n",
    "model = tf.keras.applications.ResNet50(\n",
    "    include_top=True,\n",
    "    weights=None,\n",
    "    input_shape=(32, 32, 3),\n",
    "    classes=100,)\n",
    "\n",
    "loss_fn = tf.keras.losses.SparseCategoricalCrossentropy(from_logits=False)\n",
    "model.compile(optimizer=\"adam\", loss=loss_fn, metrics=[\"accuracy\"])\n",
    "model.fit(x_train, y_train, epochs=1, batch_size=128)"
   ],
   "metadata": {
    "collapsed": false,
    "ExecuteTime": {
     "end_time": "2024-03-29T19:07:09.507109Z",
     "start_time": "2024-03-29T19:06:09.747286Z"
    }
   },
   "id": "44c87b2e8d84ef76",
   "execution_count": 2
  },
  {
   "cell_type": "markdown",
   "source": [
    "### CPU Testing\n",
    "\n",
    "This test can be run by itself after restarting the runtime to ensure we don't run into the `cannot modify virtual devices once initialized.` message. We're not able to 'renable' the GPU device once disabled.\n",
    "\n",
    "**Note:** You may have your jupyter notebook running on a different port, for this notebook we are running the notebook on `--port=8890` by default in **DataSpell**.\n"
   ],
   "metadata": {
    "collapsed": false
   },
   "id": "4e45a1858abf22dd"
  },
  {
   "cell_type": "code",
   "outputs": [],
   "source": [
    "%%capture\n",
    "!jupyter notebook stop 8890"
   ],
   "metadata": {
    "collapsed": false,
    "ExecuteTime": {
     "end_time": "2024-03-29T19:11:38.161061Z",
     "start_time": "2024-03-29T19:11:37.667816Z"
    }
   },
   "id": "e7c3e4da95e085cc",
   "execution_count": 1
  },
  {
   "cell_type": "code",
   "outputs": [
    {
     "name": "stdout",
     "output_type": "stream",
     "text": [
      "Visible Devices:  [PhysicalDevice(name='/physical_device:CPU:0', device_type='CPU')]\n",
      "\u001B[1m391/391\u001B[0m \u001B[32m━━━━━━━━━━━━━━━━━━━━\u001B[0m\u001B[37m\u001B[0m \u001B[1m3090s\u001B[0m 8s/step - accuracy: 0.0611 - loss: 4.7813\n",
      "CPU times: user 20min 54s, sys: 3min 6s, total: 24min\n",
      "Wall time: 51min 30s\n"
     ]
    },
    {
     "data": {
      "text/plain": "<keras.src.callbacks.history.History at 0x3214b3690>"
     },
     "execution_count": 2,
     "metadata": {},
     "output_type": "execute_result"
    }
   ],
   "source": [
    "%%time\n",
    "\n",
    "import tensorflow as tf\n",
    "# Removes GPU from list, i.e. []\n",
    "tf.config.set_visible_devices([], 'GPU')\n",
    "print('Visible Devices: ', tf.config.get_visible_devices())\n",
    "\n",
    "cifar = tf.keras.datasets.cifar100\n",
    "(x_train, y_train), (x_test, y_test) = cifar.load_data()\n",
    "model = tf.keras.applications.ResNet50(\n",
    "    include_top=True,\n",
    "    weights=None,\n",
    "    input_shape=(32, 32, 3),\n",
    "    classes=100,)\n",
    "\n",
    "loss_fn = tf.keras.losses.SparseCategoricalCrossentropy(from_logits=False)\n",
    "model.compile(optimizer=\"adam\", loss=loss_fn, metrics=[\"accuracy\"])\n",
    "model.fit(x_train, y_train, epochs=1, batch_size=128)"
   ],
   "metadata": {
    "collapsed": false,
    "ExecuteTime": {
     "end_time": "2024-03-29T20:07:21.910748Z",
     "start_time": "2024-03-29T19:15:51.182295Z"
    }
   },
   "id": "9ecf187f57552868",
   "execution_count": 2
  }
 ],
 "metadata": {
  "kernelspec": {
   "name": "venv-tf16",
   "language": "python",
   "display_name": "Python (TensorFlow 2.16)"
  },
  "language_info": {
   "codemirror_mode": {
    "name": "ipython",
    "version": 3
   },
   "file_extension": ".py",
   "mimetype": "text/x-python",
   "name": "python",
   "nbconvert_exporter": "python",
   "pygments_lexer": "ipython3",
   "version": "3.11.7"
  }
 },
 "nbformat": 4,
 "nbformat_minor": 5
}
